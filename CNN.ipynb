{
 "cells": [
  {
   "cell_type": "code",
   "execution_count": 1,
   "id": "281f4310",
   "metadata": {},
   "outputs": [
    {
     "name": "stdout",
     "output_type": "stream",
     "text": [
      "WARNING:tensorflow:From C:\\Users\\yasar\\anaconda3\\Lib\\site-packages\\keras\\src\\losses.py:2976: The name tf.losses.sparse_softmax_cross_entropy is deprecated. Please use tf.compat.v1.losses.sparse_softmax_cross_entropy instead.\n",
      "\n"
     ]
    }
   ],
   "source": [
    "import tensorflow as tf\n",
    "from tensorflow.keras import datasets, layers, models\n",
    "import matplotlib.pyplot as plt\n",
    "import numpy as np"
   ]
  },
  {
   "cell_type": "code",
   "execution_count": 2,
   "id": "ed7569fa",
   "metadata": {},
   "outputs": [],
   "source": [
    "(X_train, y_train), (X_test, y_test) = datasets.cifar10.load_data()"
   ]
  },
  {
   "cell_type": "code",
   "execution_count": 3,
   "id": "594b018c",
   "metadata": {},
   "outputs": [
    {
     "data": {
      "text/plain": [
       "((50000, 32, 32, 3), (10000, 32, 32, 3))"
      ]
     },
     "execution_count": 3,
     "metadata": {},
     "output_type": "execute_result"
    }
   ],
   "source": [
    "X_train.shape, X_test.shape"
   ]
  },
  {
   "cell_type": "code",
   "execution_count": 4,
   "id": "1461793e",
   "metadata": {},
   "outputs": [
    {
     "data": {
      "text/plain": [
       "<matplotlib.image.AxesImage at 0x1ee0ad7ba10>"
      ]
     },
     "execution_count": 4,
     "metadata": {},
     "output_type": "execute_result"
    },
    {
     "data": {
      "image/png": "[encoded data removed]",
      "text/plain": [
       "<Figure size 640x480 with 1 Axes>"
      ]
     },
     "metadata": {},
     "output_type": "display_data"
    }
   ],
   "source": [
    "plt.imshow(X_train[4])"
   ]
  },
  {
   "cell_type": "code",
   "execution_count": 38,
   "id": "d86f210e",
   "metadata": {},
   "outputs": [
    {
     "data": {
      "text/plain": [
       "array([6, 9, 9, ..., 9, 1, 1], dtype=uint8)"
      ]
     },
     "execution_count": 38,
     "metadata": {},
     "output_type": "execute_result"
    }
   ],
   "source": [
    "y_train"
   ]
  },
  {
   "cell_type": "code",
   "execution_count": 6,
   "id": "0ae6f938",
   "metadata": {},
   "outputs": [],
   "source": [
    "classes = ['Airplane', 'Automobile', 'Bird', 'Cat', 'Deer', 'Dog', 'Frog', 'Horse', 'Ship', 'Truck']\n",
    "def plot_sample(x, y, index):\n",
    "    plt.imshow(x[index])\n",
    "    plt.xlabel(classes[y[index]])"
   ]
  },
  {
   "cell_type": "code",
   "execution_count": 7,
   "id": "ac226c59",
   "metadata": {},
   "outputs": [],
   "source": [
    "y_train = y_train.reshape(-1, )"
   ]
  },
  {
   "cell_type": "code",
   "execution_count": 8,
   "id": "fdb2a90c",
   "metadata": {},
   "outputs": [
    {
     "data": {
      "image/png": "[encoded data removed]",
      "text/plain": [
       "<Figure size 640x480 with 1 Axes>"
      ]
     },
     "metadata": {},
     "output_type": "display_data"
    }
   ],
   "source": [
    "plot_sample(X_train, y_train, 3)"
   ]
  },
  {
   "cell_type": "code",
   "execution_count": 9,
   "id": "c4ab6e94",
   "metadata": {},
   "outputs": [],
   "source": [
    "X_train_scaled = X_train/255\n",
    "X_test_scaled = X_test/255"
   ]
  },
  {
   "cell_type": "code",
   "execution_count": 10,
   "id": "ebb65dab",
   "metadata": {},
   "outputs": [
    {
     "name": "stdout",
     "output_type": "stream",
     "text": [
      "WARNING:tensorflow:From C:\\Users\\yasar\\anaconda3\\Lib\\site-packages\\keras\\src\\backend.py:873: The name tf.get_default_graph is deprecated. Please use tf.compat.v1.get_default_graph instead.\n",
      "\n",
      "WARNING:tensorflow:From C:\\Users\\yasar\\anaconda3\\Lib\\site-packages\\keras\\src\\optimizers\\__init__.py:309: The name tf.train.Optimizer is deprecated. Please use tf.compat.v1.train.Optimizer instead.\n",
      "\n"
     ]
    }
   ],
   "source": [
    "ann = models.Sequential([\n",
    "    layers.Flatten(input_shape = (32, 32, 3)),\n",
    "    layers.Dense(3000, activation = 'relu'), \n",
    "    layers.Dense(1500, activation = 'relu'), \n",
    "    layers.Dense(10, activation = 'softmax')\n",
    "])\n",
    "\n",
    "ann.compile(optimizer = 'SGD', loss = 'sparse_categorical_crossentropy', metrics = ['accuracy'])"
   ]
  },
  {
   "cell_type": "code",
   "execution_count": 29,
   "id": "7cf2e9e8",
   "metadata": {},
   "outputs": [
    {
     "name": "stdout",
     "output_type": "stream",
     "text": [
      "Epoch 1/5\n",
      "1563/1563 [==============================] - 36s 23ms/step - loss: 1.8099 - accuracy: 0.3566\n",
      "Epoch 2/5\n",
      "1563/1563 [==============================] - 36s 23ms/step - loss: 1.6231 - accuracy: 0.4266\n",
      "Epoch 3/5\n",
      "1563/1563 [==============================] - 36s 23ms/step - loss: 1.5398 - accuracy: 0.4571\n",
      "Epoch 4/5\n",
      "1563/1563 [==============================] - 35s 23ms/step - loss: 1.4788 - accuracy: 0.4802\n",
      "Epoch 5/5\n",
      "1563/1563 [==============================] - 36s 23ms/step - loss: 1.4309 - accuracy: 0.4973\n"
     ]
    },
    {
     "data": {
      "text/plain": [
       "<keras.src.callbacks.History at 0x2862c195890>"
      ]
     },
     "execution_count": 29,
     "metadata": {},
     "output_type": "execute_result"
    }
   ],
   "source": [
    "ann.fit(X_train_scaled, y_train, epochs = 5)"
   ]
  },
  {
   "cell_type": "code",
   "execution_count": 34,
   "id": "820b8131",
   "metadata": {},
   "outputs": [],
   "source": [
    "cnn = models.Sequential([\n",
    "    layers.Conv2D(filters = 32, activation = 'relu', kernel_size = (3, 3), input_shape = (32, 32, 3)),\n",
    "    layers.MaxPooling2D((2, 2)),\n",
    "    \n",
    "    layers.Conv2D(filters = 64, kernel_size = (3, 3), activation = 'relu'),\n",
    "    layers.MaxPooling2D((2, 2)),\n",
    "    \n",
    "    layers.Conv2D(filters = 64, kernel_size = (3, 3), activation = 'relu'),\n",
    "    layers.MaxPooling2D((2, 2)),\n",
    "    \n",
    "    layers.Flatten(),\n",
    "    layers.Dense(64, activation = 'relu'),\n",
    "    layers.Dense(32, activation = 'relu'),\n",
    "    layers.Dense(10, activation = 'Softmax')\n",
    "])\n",
    "\n",
    "cnn.compile(optimizer = 'adam', loss = 'sparse_categorical_crossentropy', metrics = ['accuracy'])"
   ]
  },
  {
   "cell_type": "code",
   "execution_count": 35,
   "id": "57f64f17",
   "metadata": {},
   "outputs": [
    {
     "name": "stdout",
     "output_type": "stream",
     "text": [
      "Epoch 1/20\n",
      "1563/1563 [==============================] - 15s 9ms/step - loss: 1.6027 - accuracy: 0.4097\n",
      "Epoch 2/20\n",
      "1563/1563 [==============================] - 14s 9ms/step - loss: 1.2166 - accuracy: 0.5655\n",
      "Epoch 3/20\n",
      "1563/1563 [==============================] - 14s 9ms/step - loss: 1.0748 - accuracy: 0.6212\n",
      "Epoch 4/20\n",
      "1563/1563 [==============================] - 14s 9ms/step - loss: 0.9862 - accuracy: 0.6534\n",
      "Epoch 5/20\n",
      "1563/1563 [==============================] - 13s 9ms/step - loss: 0.9181 - accuracy: 0.6768\n",
      "Epoch 6/20\n",
      "1563/1563 [==============================] - 13s 8ms/step - loss: 0.8604 - accuracy: 0.6969\n",
      "Epoch 7/20\n",
      "1563/1563 [==============================] - 13s 9ms/step - loss: 0.8116 - accuracy: 0.7168\n",
      "Epoch 8/20\n",
      "1563/1563 [==============================] - 13s 8ms/step - loss: 0.7719 - accuracy: 0.7280\n",
      "Epoch 9/20\n",
      "1563/1563 [==============================] - 13s 8ms/step - loss: 0.7363 - accuracy: 0.7416\n",
      "Epoch 10/20\n",
      "1563/1563 [==============================] - 13s 9ms/step - loss: 0.7062 - accuracy: 0.7493\n",
      "Epoch 11/20\n",
      "1563/1563 [==============================] - 14s 9ms/step - loss: 0.6703 - accuracy: 0.7616\n",
      "Epoch 12/20\n",
      "1563/1563 [==============================] - 14s 9ms/step - loss: 0.6475 - accuracy: 0.7712\n",
      "Epoch 13/20\n",
      "1563/1563 [==============================] - 14s 9ms/step - loss: 0.6181 - accuracy: 0.7820\n",
      "Epoch 14/20\n",
      "1563/1563 [==============================] - 13s 9ms/step - loss: 0.5926 - accuracy: 0.7899\n",
      "Epoch 15/20\n",
      "1563/1563 [==============================] - 13s 8ms/step - loss: 0.5735 - accuracy: 0.7960\n",
      "Epoch 16/20\n",
      "1563/1563 [==============================] - 13s 8ms/step - loss: 0.5548 - accuracy: 0.8049\n",
      "Epoch 17/20\n",
      "1563/1563 [==============================] - 13s 8ms/step - loss: 0.5352 - accuracy: 0.8097\n",
      "Epoch 18/20\n",
      "1563/1563 [==============================] - 13s 9ms/step - loss: 0.5139 - accuracy: 0.8187\n",
      "Epoch 19/20\n",
      "1563/1563 [==============================] - 13s 8ms/step - loss: 0.4981 - accuracy: 0.8226\n",
      "Epoch 20/20\n",
      "1563/1563 [==============================] - 14s 9ms/step - loss: 0.4771 - accuracy: 0.8311\n"
     ]
    },
    {
     "data": {
      "text/plain": [
       "<keras.src.callbacks.History at 0x1ee8301f590>"
      ]
     },
     "execution_count": 35,
     "metadata": {},
     "output_type": "execute_result"
    }
   ],
   "source": [
    "cnn.fit(X_train_scaled, y_train, epochs = 20)"
   ]
  },
  {
   "cell_type": "code",
   "execution_count": 36,
   "id": "51c17610",
   "metadata": {},
   "outputs": [
    {
     "name": "stdout",
     "output_type": "stream",
     "text": [
      "313/313 [==============================] - 2s 4ms/step - loss: 0.9610 - accuracy: 0.7109\n"
     ]
    },
    {
     "data": {
      "image/png": "[encoded data removed]",
      "text/plain": [
       "<Figure size 640x480 with 1 Axes>"
      ]
     },
     "metadata": {},
     "output_type": "display_data"
    }
   ],
   "source": [
    "cnn.evaluate(X_test_scaled, y_test)\n",
    "y_test = y_test.reshape(-1,)\n",
    "plot_sample(X_test, y_test, 1)"
   ]
  },
  {
   "cell_type": "code",
   "execution_count": 37,
   "id": "27fe0336",
   "metadata": {},
   "outputs": [
    {
     "name": "stdout",
     "output_type": "stream",
     "text": [
      "313/313 [==============================] - 1s 4ms/step\n"
     ]
    },
    {
     "data": {
      "text/plain": [
       "'Ship'"
      ]
     },
     "execution_count": 37,
     "metadata": {},
     "output_type": "execute_result"
    }
   ],
   "source": [
    "y_pred = cnn.predict(X_test)\n",
    "y_classes = [np.argmax(ele) for ele in y_pred]\n",
    "y_classes[:5]\n",
    "classes[y_classes[1]]"
   ]
  },
  {
   "cell_type": "code",
   "execution_count": 14,
   "id": "31b05d9e",
   "metadata": {},
   "outputs": [
    {
     "data": {
      "text/plain": [
       "(32, 32, 3)"
      ]
     },
     "execution_count": 14,
     "metadata": {},
     "output_type": "execute_result"
    }
   ],
   "source": [
    "from PIL import Image\n",
    "hen = Image.open(r\"C:\\Users\\yasar\\Downloads\\hen.jpg\")\n",
    "hen_data = np.array(hen)\n",
    "hen_data.shape"
   ]
  },
  {
   "cell_type": "code",
   "execution_count": 15,
   "id": "feda8090",
   "metadata": {
    "scrolled": true
   },
   "outputs": [
    {
     "data": {
      "text/plain": [
       "<matplotlib.image.AxesImage at 0x1ee0e5db990>"
      ]
     },
     "execution_count": 15,
     "metadata": {},
     "output_type": "execute_result"
    },
    {
     "data": {
      "image/png": "[encoded data removed]",
      "text/plain": [
       "<Figure size 640x480 with 1 Axes>"
      ]
     },
     "metadata": {},
     "output_type": "display_data"
    }
   ],
   "source": [
    "plt.imshow(hen)"
   ]
  },
  {
   "cell_type": "code",
   "execution_count": 28,
   "id": "aecf55b3",
   "metadata": {},
   "outputs": [],
   "source": [
    "hen_data_scaled = hen_data/255\n",
    "hen_data_scaled_0 = np.array([hen_data_scaled])"
   ]
  },
  {
   "cell_type": "code",
   "execution_count": 29,
   "id": "720d4753",
   "metadata": {},
   "outputs": [
    {
     "data": {
      "text/plain": [
       "((32, 32, 3), (1, 32, 32, 3))"
      ]
     },
     "execution_count": 29,
     "metadata": {},
     "output_type": "execute_result"
    }
   ],
   "source": [
    "hen_data_scaled.shape, hen_data_scaled_0.shape"
   ]
  },
  {
   "cell_type": "code",
   "execution_count": 30,
   "id": "0080b648",
   "metadata": {},
   "outputs": [
    {
     "name": "stdout",
     "output_type": "stream",
     "text": [
      "1/1 [==============================] - 0s 120ms/step\n"
     ]
    }
   ],
   "source": [
    "pred = cnn.predict(hen_data_scaled_0)"
   ]
  },
  {
   "cell_type": "code",
   "execution_count": 33,
   "id": "b374f105",
   "metadata": {},
   "outputs": [
    {
     "data": {
      "text/plain": [
       "'Bird'"
      ]
     },
     "execution_count": 33,
     "metadata": {},
     "output_type": "execute_result"
    }
   ],
   "source": [
    "classes[np.argmax(pred)]"
   ]
  },
  {
   "cell_type": "code",
   "execution_count": null,
   "id": "3ba283eb",
   "metadata": {},
   "outputs": [],
   "source": []
  }
 ],
 "metadata": {
  "kernelspec": {
   "display_name": "Python 3 (ipykernel)",
   "language": "python",
   "name": "python3"
  },
  "language_info": {
   "codemirror_mode": {
    "name": "ipython",
    "version": 3
   },
   "file_extension": ".py",
   "mimetype": "text/x-python",
   "name": "python",
   "nbconvert_exporter": "python",
   "pygments_lexer": "ipython3",
   "version": "3.11.3"
  }
 },
 "nbformat": 4,
 "nbformat_minor": 5
}
